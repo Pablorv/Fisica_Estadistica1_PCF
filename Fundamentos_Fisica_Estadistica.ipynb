{
 "cells": [
  {
   "cell_type": "markdown",
   "metadata": {},
   "source": [
    "\n",
    "## Curso de Física Estadística I\n",
    "\n",
    "### Posgrado en Ciencias Físicas, UNAM\n",
    "\n",
    "#### Ejercicios de Fundamentos de Física Estadística\n",
    "\n",
    "#### Dudas: pablorv@ciencias.unam.mx"
   ]
  },
  {
   "cell_type": "code",
   "execution_count": null,
   "metadata": {},
   "outputs": [],
   "source": []
  },
  {
   "cell_type": "markdown",
   "metadata": {},
   "source": [
    "1.- Verifica explícitamente que el elemento de volumen $d\\omega$ del espacio fase de una partícula es invariante bajo una transformación de coordenadas cartesianas $(x,y,z,p_{x},p_{y},p_{z})$ a coordenadas esféricas $(r,\\theta,\\phi,p_{r},p_{\\theta},p_{\\phi})$."
   ]
  },
  {
   "cell_type": "code",
   "execution_count": null,
   "metadata": {},
   "outputs": [],
   "source": []
  },
  {
   "cell_type": "markdown",
   "metadata": {},
   "source": [
    "2.- Las coordenadas generalizadas de un péndulo simple son el desplazamiento angular $\\theta$ y el momento angular $m\\ell^{2}\\theta^{'}$.\n",
    "Estudia matemáticamente la naturaleza de las correspondientes trayectorias en el espacio fase del sistema, y muestra que el área A encerrada por una trayectoria es igual al producto de la energía total $E$ y el periodo de tiempo $\\tau$ del péndulo."
   ]
  },
  {
   "cell_type": "code",
   "execution_count": null,
   "metadata": {},
   "outputs": [],
   "source": [
    "from vpython import *\n",
    "grafica=graph(xtitle='Angulo(rad)', ytitle='Velocidad(rad/s)' )\n",
    "posicion=gcurve(color=color.blue)\n",
    "\n",
    "h=0.01\n",
    "g=9.81\n",
    "l=0.5\n",
    "x=pi/5\n",
    "v=0.0\n",
    "\n",
    "def f(x,v):\n",
    "    return(-g/l*sin(x))\n",
    "for t in range(1000):\n",
    "    v=v+f(x,v)*h\n",
    "    x=x+v*h\n",
    "    posicion.plot(pos=(x,v))\n",
    "sleep(0)"
   ]
  },
  {
   "cell_type": "markdown",
   "metadata": {},
   "source": [
    "3.- Un electrón libre con spin puede ser descrito con la función de onda\n",
    "\n",
    "$$\n",
    "\\phi_{k,s}(r)= \\frac{1}{(2\\pi)^{3/2}} exp\\{ik\\cdot r \\}\\chi_{s}\n",
    "$$\n",
    "\n",
    "con $\\chi_{s,+1/2}=\\begin{pmatrix}1\\\\0 \\end{pmatrix}$ y $\\chi_{s,-1/2}=\\begin{pmatrix}0\\\\1 \\end{pmatrix}$.\n",
    "\n",
    "\n",
    "Cada combinación lineal \n",
    "\n",
    "$$\n",
    "\\psi_{k}= a_{+}\\phi_{k,+1/2}(r) a_{-}\\phi_{k,-1/2}(r)\n",
    "$$\n",
    "\n",
    "es una función propia del Hamiltoniano del electrón libre.\n",
    "\n",
    "Como sabemos, una cierta proyección de spin del electrón corresponde a una onda polarizada. Por ejemplo, para $a_{+}=1(0)$ y $a_{-}=0(1)$ la onda está polarizada a la \\textit{derecha(izquierda)}. Pero según la ecuación anterior, todas las combinaciones lineales corresponden a un estado de polarización, en general elípticamente polarizado.\n",
    "\n",
    "Podemos describir al vector polarización como\n",
    "\n",
    "$$\n",
    "P=<\\psi_{k}|\\sigma|\\psi_{k}>\n",
    "$$\n",
    "\n",
    "\n",
    "donde $\\sigma$ son las matrices de Pauli. \n",
    "\n",
    "(a) Encontrar $|P|$ para el caso de $\\psi_{k}$.\n",
    "\n",
    "(b) Encontrar $|P|$ para el caso de una mezcla estadística.\n"
   ]
  },
  {
   "cell_type": "markdown",
   "metadata": {},
   "source": [
    "4.- Hint problema 2. "
   ]
  },
  {
   "cell_type": "markdown",
   "metadata": {},
   "source": [
    "5.- (a) ¿Cuáles son las matrices de densidad en el espacio de momentos y posiciones?\n",
    "(b) Denotemos a la matriz de densidad en el espacio de momentos por $\\phi_{1}(p_{1},p_{2})$. Muestra que si $\\phi$ es diagonal, es decir si $$\\phi(p_{1},p_{2})=f(p_{1})\\delta_{p_{1}p_{2}},$$\n",
    "\n",
    "entonces los elementos de la diagonal de la matriz de densidad de posiciones son constantes.\n",
    "\n"
   ]
  },
  {
   "cell_type": "code",
   "execution_count": null,
   "metadata": {},
   "outputs": [],
   "source": []
  }
 ],
 "metadata": {},
 "nbformat": 4,
 "nbformat_minor": 4
}
