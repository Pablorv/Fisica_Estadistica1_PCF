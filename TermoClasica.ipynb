{
 "cells": [
  {
   "cell_type": "markdown",
   "metadata": {},
   "source": [
    "\n",
    "## Curso de Física Estadística I\n",
    "\n",
    "### Posgrado en Ciencias Físicas, UNAM\n",
    "\n",
    "#### Ejercicios de Termodinámica Clásica.\n",
    "\n",
    "#### Dudas: pablorv@ciencias.unam.mx"
   ]
  },
  {
   "cell_type": "code",
   "execution_count": null,
   "metadata": {},
   "outputs": [],
   "source": []
  },
  {
   "cell_type": "markdown",
   "metadata": {},
   "source": [
    "1.- Las siguientes ecuaciones pretenden ser ecuaciones fundamentales, verifica cuáles satisfacen los postulados del $I$ al $IV$. Identifica el o los postulado(s) violado(s) en caso de que no resulte ser una ecuación fundamental. Las cantidades $R$, $\\theta$ y $v_{0}$ son constantes positivas y en todos los casos en los que aparecen exponentes fraccionarios únicamente debe tomarse la raíz real positiva.\n",
    "\n",
    "(a) $$S=\\left( \\frac{R^{3}}{v_{0}\\theta^{2}}\\right)^{1/5}[N^{2}VU^{2}]^{1/5}$$\n",
    "\n",
    "(b) $$ S=NR\\ln\\left( \\frac{UV}{N^2 R \\theta v_{0}} \\right) $$\n",
    "\n",
    "(c) $$S=\\left(\\frac{R}{\\theta} \\right)^{1/2} [NU]^{1/2} exp\\left(-\\frac{V^{2}}{2N^2v_{0}^2} \\right) $$\n",
    "\n",
    "(d)$$S=\\left(\\frac{R}{\\theta} \\right)^{1/2} [NU]^{1/2} exp\\left(-\\frac{VU}{NR v_{0}\\theta} \\right) $$\n",
    "\n",
    "\n",
    "**Solución**\n",
    "\n",
    "Recordemos lo que dicen los cuatro postulados de la termodinámica.\n",
    "\n",
    "\n",
    "**Primer postulado:**\n",
    "\n",
    "Existen estados particulares de los sistemas simples, denominados\n",
    "estados de equilibrio , que desde el punto de vista macroscópico están caracterizados\n",
    "completamente por la energía interna $U$, el volumen $V$ , y los números de moles\n",
    "$N_{1},...,N{r}$ de los componentes químicos.\n",
    "\n",
    "\n",
    "**Segundo postulado**\n",
    "\n",
    "Existe una función (denominada entropía $S$) de los parámetros\n",
    "extensivos de cualquier sistema compuesto, definida para todos los estados de equilibrio\n",
    "y que tiene la propiedad siguiente: los valores que toman los parámetros extensivos,\n",
    "en ausencia de ligaduras internas, son aquellos que maximizan la entropía respecto al\n",
    "conjuntos de los estados de equilibrio ligados. \n",
    "\n",
    "*Es decir, si eliminamos la ligadura en cualquiera de las variables extensivas del sistema compuesto, entonces podremos encontrar un máximo en la entropía.*\n",
    "\n",
    "**Tercer postulado**\n",
    "\n",
    "La entropía de un sistema compuesto es aditiva respecto a la\n",
    "de los subsistemas constituyentes (**homogénea**). La entropía es **continua y diferenciable**, y es una función monótonamente **creciente** de la energía.\n",
    "\n",
    "\n",
    "**Cuarto postulado**\n",
    "\n",
    "La entropía de cualquier sistema se anula en el estado para el\n",
    "cual\n",
    "\n",
    "$$\\left(\\frac{\\partial S}{\\partial U} \\right)_{V,N_{1},...,N_{r}}=0,$$\n",
    "\n",
    "(es decir, en el cero de temperatura).\n",
    "\n",
    "En una línea, esto significa que debe cumplirse que\n",
    "\n",
    "$$\\left(\\frac{\\partial S}{\\partial U} \\right)_{V,N_{1},...,N_{r}}=0 \\leftrightarrow S=0$$"
   ]
  },
  {
   "cell_type": "markdown",
   "metadata": {},
   "source": [
    "2.- Encuentra las ecuaciones de estado para un sistema con ecuación fundamental\n",
    "\n",
    "$$\n",
    "u=\\left(\\frac{\\theta}{R}s^{2} \\right)- \\left(\\frac{R\\theta}{V_{0}^{2}} \\right)v^2\n",
    "$$\n",
    "\n",
    "y muestra para este sistema que $\\mu=-u$."
   ]
  },
  {
   "cell_type": "markdown",
   "metadata": {},
   "source": [
    "**Solución**\n",
    "\n",
    "Para encontrar las ecuaciones de estado es necesario recordar las definiciones de los parámetros intensivos $T$, $P$ y $\\mu$. Para hacerlo primero hay que expresar la ecuación fundamental en términos de cantidades no molares, o bien expresar las definiciones de los parámetros intensivos molares (divididos por el $N$). "
   ]
  },
  {
   "cell_type": "markdown",
   "metadata": {},
   "source": [
    "3.- Dos sistemas particulares tienen las siguientes ecuaciones de estado:\n",
    "\n",
    "$$\n",
    "\\frac{1}{T^{(1)}}= \\frac{3RN^{(1)}}{2U^{(1)}}\n",
    "$$\n",
    "\n",
    "$$\n",
    "\\frac{1}{T^{(2)}}= \\frac{5RN^{(2)}}{2U^{(2)}}\n",
    "$$\n",
    "\n",
    "donde $R$ es una constante que tiene valor $1.986 \\frac{cal}{mol K}$. Los números de moles respectivos son $N^{(1)}=2$ y $N^{(2)}=3$. Los dos sistemas están separados por una pared diatérmica y la energía total del sistema compuesto es $6000cal$. ¿Cuáles son los valores de $U^{(1)} y U^{(2)}$ una vez establecido el equilibrio?\n",
    "\n",
    "**Solución**\n",
    "\n"
   ]
  },
  {
   "cell_type": "markdown",
   "metadata": {},
   "source": [
    "4.- Dos sistemas particulares tienen las siguientes ecuaciones de estado:\n",
    "\n",
    "$$\n",
    "\\frac{1}{T^{(1)}}= \\frac{3RN^{(1)}}{2U^{(1)}}; \\frac{P^{(1)}}{T^{(1)}}=R\\frac{N^{(1)}}{V^{(1)}}\n",
    "$$\n",
    "\n",
    "\n",
    "$$\n",
    "\\frac{1}{T^{(2)}}= \\frac{5RN^{(2)}}{2U^{(2)}}; \\frac{P^{(2)}}{T^{(2)}}=R\\frac{N^{(2)}}{V^{(2)}},\n",
    "$$\n",
    "\n",
    "donde $R= 1.986\\frac{cal}{mol K}$. El número de moles del primer sistema es $N^{(1)}=0.5$ y $N^{(2)}=0.75$ para el segundo. Los dos sistemas están contenidos en un cilindro aislado, separados por un pistón diatérmico móvil. Las temperaturas iniciales son $T^{(1)}=200K$ y $T^{(2)}=300K$, y el volumen total es de $20$ litros. ¿Cuáles son la energía y el volumen de cada sistema en el equilibrio? ¿Cuál es la presión, y cuál la temperatura? "
   ]
  },
  {
   "cell_type": "markdown",
   "metadata": {},
   "source": [
    "5.- La entalpía de un sistema particular es:\n",
    "\n",
    "\n",
    "$$\n",
    "H= AS^{2}N^{-1}ln\\left(\\frac{P}{P_{0}} \\right),\n",
    "$$\n",
    "\n",
    "donde $A$ es una constante positiva. Calcula la capacidad calorífica molar a volumen constante $c_{v}$ como función de $T$ y $P$."
   ]
  },
  {
   "cell_type": "markdown",
   "metadata": {},
   "source": [
    "6.- Un sistema obedece la relación fundamental \n",
    "\n",
    "$$\n",
    "(s-s_{0})^{4}=Avu^{2}.\n",
    "$$\n",
    "\n",
    "Calcula el potencial de Gibbs $G(T,P,N)$."
   ]
  },
  {
   "cell_type": "code",
   "execution_count": null,
   "metadata": {},
   "outputs": [],
   "source": []
  }
 ],
 "metadata": {
  "kernelspec": {
   "display_name": "Python 2",
   "language": "python",
   "name": "python2"
  },
  "language_info": {
   "codemirror_mode": {
    "name": "ipython",
    "version": 2
   },
   "file_extension": ".py",
   "mimetype": "text/x-python",
   "name": "python",
   "nbconvert_exporter": "python",
   "pygments_lexer": "ipython2",
   "version": "2.7.18"
  }
 },
 "nbformat": 4,
 "nbformat_minor": 2
}
